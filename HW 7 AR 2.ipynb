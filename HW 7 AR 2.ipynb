{
 "cells": [
  {
   "cell_type": "markdown",
   "metadata": {
    "id": "7E9HEMJSX-3T"
   },
   "source": [
    "# 1.) Set up OpenAI and the enviornment\n"
   ]
  },
  {
   "cell_type": "code",
   "execution_count": 11,
   "metadata": {
    "id": "Q2A8TGhKm3i5"
   },
   "outputs": [],
   "source": [
    "import openai\n",
    "import os\n",
    "import wikipedia\n",
    "\n",
    "apikey = 'use-your-own-api-key'\n",
    "openai.api_key = apikey"
   ]
  },
  {
   "cell_type": "code",
   "execution_count": 12,
   "metadata": {
    "collapsed": true,
    "id": "4zwwdkZDYDZN"
   },
   "outputs": [
    {
     "data": {
      "text/plain": [
       "['APIError',\n",
       " 'Audio',\n",
       " 'Callable',\n",
       " 'ChatCompletion',\n",
       " 'Completion',\n",
       " 'ContextVar',\n",
       " 'Customer',\n",
       " 'Deployment',\n",
       " 'Edit',\n",
       " 'Embedding',\n",
       " 'Engine',\n",
       " 'ErrorObject',\n",
       " 'File',\n",
       " 'FineTune',\n",
       " 'FineTuningJob',\n",
       " 'Image',\n",
       " 'InvalidRequestError',\n",
       " 'Model',\n",
       " 'Moderation',\n",
       " 'OpenAIError',\n",
       " 'Optional',\n",
       " 'TYPE_CHECKING',\n",
       " 'Union',\n",
       " 'VERSION',\n",
       " '__all__',\n",
       " '__annotations__',\n",
       " '__builtins__',\n",
       " '__cached__',\n",
       " '__doc__',\n",
       " '__file__',\n",
       " '__loader__',\n",
       " '__name__',\n",
       " '__package__',\n",
       " '__path__',\n",
       " '__spec__',\n",
       " '__version__',\n",
       " 'aiosession',\n",
       " 'api_base',\n",
       " 'api_key',\n",
       " 'api_key_path',\n",
       " 'api_requestor',\n",
       " 'api_resources',\n",
       " 'api_type',\n",
       " 'api_version',\n",
       " 'app_info',\n",
       " 'ca_bundle_path',\n",
       " 'datalib',\n",
       " 'debug',\n",
       " 'enable_telemetry',\n",
       " 'error',\n",
       " 'log',\n",
       " 'openai_object',\n",
       " 'openai_response',\n",
       " 'organization',\n",
       " 'os',\n",
       " 'proxy',\n",
       " 'requestssession',\n",
       " 'sys',\n",
       " 'util',\n",
       " 'verify_ssl_certs',\n",
       " 'version']"
      ]
     },
     "execution_count": 12,
     "metadata": {},
     "output_type": "execute_result"
    }
   ],
   "source": [
    "dir(openai)"
   ]
  },
  {
   "cell_type": "markdown",
   "metadata": {
    "id": "tOXc5_BTm9HP"
   },
   "source": [
    "# 2.) Use the wikipedia api to get a function that pulls in the text of a wikipedia page"
   ]
  },
  {
   "cell_type": "code",
   "execution_count": 61,
   "metadata": {},
   "outputs": [],
   "source": [
    "def get_wiki_content(page_title):\n",
    "    search_results = wikipedia.search(page_title)\n",
    "    page = wikipedia.page(search_results[0])\n",
    "    return page.content"
   ]
  },
  {
   "cell_type": "markdown",
   "metadata": {
    "id": "_9aruncMmubX"
   },
   "source": [
    "# 3.) Build a chatgpt bot that will analyze the text given and try to locate any false info"
   ]
  },
  {
   "cell_type": "code",
   "execution_count": 62,
   "metadata": {
    "id": "_TMKFGN4nDJ4"
   },
   "outputs": [],
   "source": [
    "def chatgpt_error_correction(content):\n",
    "    # Slice the content to the first 8192 characters\n",
    "    content = content[:8192]\n",
    "    \n",
    "    try:\n",
    "        response = openai.ChatCompletion.create(\n",
    "            model=\"gpt-3.5-turbo\",  # Use the correct model name for your use case.\n",
    "            messages=[\n",
    "                {\"role\": \"system\", \"content\": \"Analyze the following article content for accuracy.\"},\n",
    "                {\"role\": \"user\", \"content\": content}\n",
    "            ]\n",
    "        )\n",
    "        return response.choices[0].message.content\n",
    "    except Exception as e:\n",
    "        return str(e)"
   ]
  },
  {
   "cell_type": "markdown",
   "metadata": {
    "id": "zPw5LyPEobmk"
   },
   "source": [
    "# 4.) Make a for loop and check a few wikipedia pages and return a report of any potentially false info via wikipedia"
   ]
  },
  {
   "cell_type": "code",
   "execution_count": 60,
   "metadata": {},
   "outputs": [
    {
     "name": "stdout",
     "output_type": "stream",
     "text": [
      "Checking Artificial Intelligence\n",
      "Report for Artificial Intelligence:\n",
      "The content provided in the article accurately explains the concept of artificial intelligence (AI) and its applications. It covers various aspects of AI technology, its history, goals, and sub-fields such as reasoning, knowledge representation, planning, decision making, and learning. The article also discusses the challenges and advancements in AI research, as well as its impact on society and the economy.\n",
      "\n",
      "The article correctly highlights the wide range of applications of AI, such as web search engines, recommendation systems, virtual assistants, self-driving cars, generative tools, strategy games, and more. It also acknowledges the cyclic nature of AI research, mentioning periods of optimism and disappointment known as \"AI winters.\"\n",
      "\n",
      "Furthermore, the article delves into the technical aspects of AI research, including reasoning algorithms, knowledge representation techniques, automated planning and decision-making processes, and various types of machine learning like supervised, unsupervised, and reinforcement learning. It also explains concepts like Markov decision processes, game theory, and the interdisciplinarity of AI research by drawing from fields like psychology, linguistics, philosophy, and neuroscience.\n",
      "\n",
      "Overall, the content provides a comprehensive overview of artificial intelligence, its history, goals, applications, and challenges, and accurately represents the current state of AI research and technology.\n",
      "Checking Machine Learning\n",
      "ERROR while checking Machine Learning: Page id \"machine ;earning\" does not match any pages. Try another id!\n",
      "Checking UCLA\n",
      "Report for UCLA:\n",
      "The information provided in the article about the University of California, Los Angeles (UCLA) is mostly accurate. \n",
      "\n",
      "- UCLA was indeed established in 1881 as the southern branch of the California State Normal School and later became part of the University of California system in 1919.\n",
      "- The university offers a wide range of undergraduate and graduate degree programs and is organized into different schools, as mentioned in the article.\n",
      "- UCLA's athletic teams are known as the Bruins and compete in the Pac-12 Conference.\n",
      "- The article accurately states that UCLA has a strong track record in producing Olympic athletes, academic achievements, and memberships in prestigious academic societies.\n",
      "- The history section provides a detailed account of how the university transitioned from a normal school to a full-fledged university with its own campus.\n",
      "- The article accurately mentions the growth and development of UCLA over the years, including the milestone of being elevated to co-equal status with UC Berkeley in 1951.\n",
      "- Recent events and developments, such as the murder-suicide incident, the forming of a new neighborhood council, and partnerships with the Tongva people, are also briefly mentioned.\n",
      "\n",
      "However, some parts of the article are incomplete, such as the reference to Gabriel Piterberg's sexual harassment scandals in the history department in 2014. Additionally, more recent information beyond 2022 may not be included in the article. Overall, the article provides a good overview of UCLA's history, academic programs, achievements, and recent developments.\n"
     ]
    }
   ],
   "source": [
    "# List of Wikipedia page titles to check\n",
    "page_titles = [\"Artificial Intelligence\", \"Machine Learning\", \"UCLA\"]\n",
    "\n",
    "# Loop over the page titles and check each one\n",
    "for page_title in page_titles:\n",
    "    print(f\"Checking {page_title}\")\n",
    "    try:\n",
    "        # Get the Wikipedia page content\n",
    "        text = get_wiki_content(page_title)\n",
    "        # Analyze the content for errors\n",
    "        correction = chatgpt_error_correction(text)\n",
    "        print(f\"Report for {page_title}:\")\n",
    "        print(correction)\n",
    "    except Exception as e:\n",
    "        print(f\"ERROR while checking {page_title}: {e}\")"
   ]
  },
  {
   "cell_type": "code",
   "execution_count": null,
   "metadata": {},
   "outputs": [],
   "source": []
  }
 ],
 "metadata": {
  "colab": {
   "provenance": []
  },
  "kernelspec": {
   "display_name": "Python 3 (ipykernel)",
   "language": "python",
   "name": "python3"
  },
  "language_info": {
   "codemirror_mode": {
    "name": "ipython",
    "version": 3
   },
   "file_extension": ".py",
   "mimetype": "text/x-python",
   "name": "python",
   "nbconvert_exporter": "python",
   "pygments_lexer": "ipython3",
   "version": "3.11.5"
  }
 },
 "nbformat": 4,
 "nbformat_minor": 1
}
