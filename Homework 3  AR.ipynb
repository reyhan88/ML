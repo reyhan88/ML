{
 "cells": [
  {
   "cell_type": "code",
   "execution_count": 1,
   "id": "55621e94",
   "metadata": {},
   "outputs": [],
   "source": [
    "import yfinance as yf\n",
    "import pandas as pd\n",
    "import numpy as np\n",
    "import matplotlib.pyplot as plt"
   ]
  },
  {
   "cell_type": "markdown",
   "id": "a055ebb7",
   "metadata": {},
   "source": [
    "# 1.) Clean the Apple Data to get a quarterly series of EPS."
   ]
  },
  {
   "cell_type": "code",
   "execution_count": 2,
   "id": "365b253b",
   "metadata": {},
   "outputs": [],
   "source": [
    "y = pd.read_csv(\"AAPL_quarterly_financials.csv\")"
   ]
  },
  {
   "cell_type": "code",
   "execution_count": 3,
   "id": "8932850f",
   "metadata": {},
   "outputs": [],
   "source": [
    "y.index = y.name"
   ]
  },
  {
   "cell_type": "code",
   "execution_count": 4,
   "id": "449862e7",
   "metadata": {},
   "outputs": [],
   "source": [
    "y = pd.DataFrame(y.loc[\"BasicEPS\", :]).iloc[2:,:]"
   ]
  },
  {
   "cell_type": "code",
   "execution_count": 5,
   "id": "c39e6c1d",
   "metadata": {},
   "outputs": [],
   "source": [
    "y.index = pd.to_datetime(y.index)"
   ]
  },
  {
   "cell_type": "code",
   "execution_count": 6,
   "id": "15452f18",
   "metadata": {},
   "outputs": [],
   "source": [
    "# CHECK IF NAS ARE NO DIVIDEND PERIOD\n",
    "y = y.sort_index().fillna(0.)"
   ]
  },
  {
   "cell_type": "markdown",
   "id": "f660ca3c",
   "metadata": {},
   "source": [
    "# 2.) Come up with 6 search terms you think could nowcast earnings. (Different than the ones I used) Add in 3 terms that that you think will not Nowcast earnings. Pull in the gtrends data"
   ]
  },
  {
   "cell_type": "code",
   "execution_count": 7,
   "id": "101a8370",
   "metadata": {},
   "outputs": [],
   "source": [
    "from pytrends.request import TrendReq"
   ]
  },
  {
   "cell_type": "code",
   "execution_count": 8,
   "id": "715787dd",
   "metadata": {},
   "outputs": [],
   "source": [
    "# Create pytrends object\n",
    "pytrends = TrendReq(hl='en-US', tz=360)\n",
    "\n",
    "# Set up the keywords and the timeframe\n",
    "keywords = [\"Discount\", \"Technology\", \"Apple Stock\", \"Apple Fan\", \"Phone Reviews\", \"iPhone Expensive\", \"iPhone Tech\", \"NBA Match\", \"DMV\", \"Donald Trump\"]  # Add your keywords here\n",
    "start_date = '2004-01-01'\n",
    "end_date = '2024-01-01'\n",
    "\n",
    "# Create an empty DataFrame to store the results\n",
    "df = pd.DataFrame()\n",
    "\n",
    "# Iterate through keywords and fetch data\n",
    "for keyword in keywords:\n",
    "    pytrends.build_payload([keyword], cat=0, timeframe=f'{start_date} {end_date}', geo='', gprop='')\n",
    "    interest_over_time_df = pytrends.interest_over_time()\n",
    "    df[keyword] = interest_over_time_df[keyword]"
   ]
  },
  {
   "cell_type": "code",
   "execution_count": 9,
   "id": "22bbb744",
   "metadata": {},
   "outputs": [],
   "source": [
    "X = df = df.resample(\"Q\").mean()"
   ]
  },
  {
   "cell_type": "code",
   "execution_count": 10,
   "id": "c925f043",
   "metadata": {},
   "outputs": [],
   "source": [
    "# ALIGN DATA\n",
    "temp = pd.concat([y, X],axis = 1).dropna()\n",
    "y = temp[[\"BasicEPS\"]].copy()\n",
    "X = temp.iloc[:,1:].copy()"
   ]
  },
  {
   "cell_type": "code",
   "execution_count": 11,
   "id": "cf1ac9f9",
   "metadata": {},
   "outputs": [
    {
     "data": {
      "text/html": [
       "<div>\n",
       "<style scoped>\n",
       "    .dataframe tbody tr th:only-of-type {\n",
       "        vertical-align: middle;\n",
       "    }\n",
       "\n",
       "    .dataframe tbody tr th {\n",
       "        vertical-align: top;\n",
       "    }\n",
       "\n",
       "    .dataframe thead th {\n",
       "        text-align: right;\n",
       "    }\n",
       "</style>\n",
       "<table border=\"1\" class=\"dataframe\">\n",
       "  <thead>\n",
       "    <tr style=\"text-align: right;\">\n",
       "      <th></th>\n",
       "      <th>Discount</th>\n",
       "      <th>Technology</th>\n",
       "      <th>Apple Stock</th>\n",
       "      <th>Apple Fan</th>\n",
       "      <th>Phone Reviews</th>\n",
       "      <th>iPhone Expensive</th>\n",
       "      <th>iPhone Tech</th>\n",
       "      <th>NBA Match</th>\n",
       "      <th>DMV</th>\n",
       "      <th>Donald Trump</th>\n",
       "    </tr>\n",
       "  </thead>\n",
       "  <tbody>\n",
       "    <tr>\n",
       "      <th>2004-03-31</th>\n",
       "      <td>90.666667</td>\n",
       "      <td>96.666667</td>\n",
       "      <td>1.666667</td>\n",
       "      <td>52.333333</td>\n",
       "      <td>86.333333</td>\n",
       "      <td>0.000000</td>\n",
       "      <td>0.000000</td>\n",
       "      <td>5.333333</td>\n",
       "      <td>75.666667</td>\n",
       "      <td>2.333333</td>\n",
       "    </tr>\n",
       "    <tr>\n",
       "      <th>2004-06-30</th>\n",
       "      <td>91.333333</td>\n",
       "      <td>91.333333</td>\n",
       "      <td>1.000000</td>\n",
       "      <td>40.333333</td>\n",
       "      <td>83.666667</td>\n",
       "      <td>2.333333</td>\n",
       "      <td>1.000000</td>\n",
       "      <td>8.666667</td>\n",
       "      <td>86.333333</td>\n",
       "      <td>2.000000</td>\n",
       "    </tr>\n",
       "    <tr>\n",
       "      <th>2004-09-30</th>\n",
       "      <td>91.000000</td>\n",
       "      <td>84.000000</td>\n",
       "      <td>1.333333</td>\n",
       "      <td>59.000000</td>\n",
       "      <td>95.333333</td>\n",
       "      <td>2.333333</td>\n",
       "      <td>0.000000</td>\n",
       "      <td>3.666667</td>\n",
       "      <td>94.666667</td>\n",
       "      <td>1.333333</td>\n",
       "    </tr>\n",
       "    <tr>\n",
       "      <th>2004-12-31</th>\n",
       "      <td>87.666667</td>\n",
       "      <td>78.666667</td>\n",
       "      <td>2.666667</td>\n",
       "      <td>42.333333</td>\n",
       "      <td>92.333333</td>\n",
       "      <td>3.000000</td>\n",
       "      <td>2.000000</td>\n",
       "      <td>11.333333</td>\n",
       "      <td>67.666667</td>\n",
       "      <td>2.000000</td>\n",
       "    </tr>\n",
       "    <tr>\n",
       "      <th>2005-03-31</th>\n",
       "      <td>79.666667</td>\n",
       "      <td>78.000000</td>\n",
       "      <td>5.333333</td>\n",
       "      <td>76.333333</td>\n",
       "      <td>83.333333</td>\n",
       "      <td>0.000000</td>\n",
       "      <td>0.000000</td>\n",
       "      <td>10.000000</td>\n",
       "      <td>71.333333</td>\n",
       "      <td>2.000000</td>\n",
       "    </tr>\n",
       "    <tr>\n",
       "      <th>...</th>\n",
       "      <td>...</td>\n",
       "      <td>...</td>\n",
       "      <td>...</td>\n",
       "      <td>...</td>\n",
       "      <td>...</td>\n",
       "      <td>...</td>\n",
       "      <td>...</td>\n",
       "      <td>...</td>\n",
       "      <td>...</td>\n",
       "      <td>...</td>\n",
       "    </tr>\n",
       "    <tr>\n",
       "      <th>2022-09-30</th>\n",
       "      <td>46.333333</td>\n",
       "      <td>31.000000</td>\n",
       "      <td>29.333333</td>\n",
       "      <td>66.000000</td>\n",
       "      <td>22.333333</td>\n",
       "      <td>55.666667</td>\n",
       "      <td>40.666667</td>\n",
       "      <td>13.666667</td>\n",
       "      <td>44.000000</td>\n",
       "      <td>4.000000</td>\n",
       "    </tr>\n",
       "    <tr>\n",
       "      <th>2022-12-31</th>\n",
       "      <td>48.000000</td>\n",
       "      <td>28.666667</td>\n",
       "      <td>27.666667</td>\n",
       "      <td>54.333333</td>\n",
       "      <td>19.333333</td>\n",
       "      <td>49.000000</td>\n",
       "      <td>41.000000</td>\n",
       "      <td>55.333333</td>\n",
       "      <td>36.000000</td>\n",
       "      <td>4.000000</td>\n",
       "    </tr>\n",
       "    <tr>\n",
       "      <th>2023-03-31</th>\n",
       "      <td>43.333333</td>\n",
       "      <td>30.333333</td>\n",
       "      <td>32.666667</td>\n",
       "      <td>52.666667</td>\n",
       "      <td>20.000000</td>\n",
       "      <td>47.000000</td>\n",
       "      <td>34.333333</td>\n",
       "      <td>65.333333</td>\n",
       "      <td>40.666667</td>\n",
       "      <td>3.666667</td>\n",
       "    </tr>\n",
       "    <tr>\n",
       "      <th>2023-06-30</th>\n",
       "      <td>43.333333</td>\n",
       "      <td>29.000000</td>\n",
       "      <td>28.000000</td>\n",
       "      <td>56.666667</td>\n",
       "      <td>20.333333</td>\n",
       "      <td>47.666667</td>\n",
       "      <td>30.666667</td>\n",
       "      <td>76.000000</td>\n",
       "      <td>41.666667</td>\n",
       "      <td>4.666667</td>\n",
       "    </tr>\n",
       "    <tr>\n",
       "      <th>2023-09-30</th>\n",
       "      <td>47.000000</td>\n",
       "      <td>30.333333</td>\n",
       "      <td>28.333333</td>\n",
       "      <td>62.666667</td>\n",
       "      <td>21.333333</td>\n",
       "      <td>56.666667</td>\n",
       "      <td>37.333333</td>\n",
       "      <td>16.333333</td>\n",
       "      <td>41.333333</td>\n",
       "      <td>5.000000</td>\n",
       "    </tr>\n",
       "  </tbody>\n",
       "</table>\n",
       "<p>79 rows × 10 columns</p>\n",
       "</div>"
      ],
      "text/plain": [
       "             Discount  Technology  Apple Stock  Apple Fan  Phone Reviews  \\\n",
       "2004-03-31  90.666667   96.666667     1.666667  52.333333      86.333333   \n",
       "2004-06-30  91.333333   91.333333     1.000000  40.333333      83.666667   \n",
       "2004-09-30  91.000000   84.000000     1.333333  59.000000      95.333333   \n",
       "2004-12-31  87.666667   78.666667     2.666667  42.333333      92.333333   \n",
       "2005-03-31  79.666667   78.000000     5.333333  76.333333      83.333333   \n",
       "...               ...         ...          ...        ...            ...   \n",
       "2022-09-30  46.333333   31.000000    29.333333  66.000000      22.333333   \n",
       "2022-12-31  48.000000   28.666667    27.666667  54.333333      19.333333   \n",
       "2023-03-31  43.333333   30.333333    32.666667  52.666667      20.000000   \n",
       "2023-06-30  43.333333   29.000000    28.000000  56.666667      20.333333   \n",
       "2023-09-30  47.000000   30.333333    28.333333  62.666667      21.333333   \n",
       "\n",
       "            iPhone Expensive  iPhone Tech  NBA Match        DMV  Donald Trump  \n",
       "2004-03-31          0.000000     0.000000   5.333333  75.666667      2.333333  \n",
       "2004-06-30          2.333333     1.000000   8.666667  86.333333      2.000000  \n",
       "2004-09-30          2.333333     0.000000   3.666667  94.666667      1.333333  \n",
       "2004-12-31          3.000000     2.000000  11.333333  67.666667      2.000000  \n",
       "2005-03-31          0.000000     0.000000  10.000000  71.333333      2.000000  \n",
       "...                      ...          ...        ...        ...           ...  \n",
       "2022-09-30         55.666667    40.666667  13.666667  44.000000      4.000000  \n",
       "2022-12-31         49.000000    41.000000  55.333333  36.000000      4.000000  \n",
       "2023-03-31         47.000000    34.333333  65.333333  40.666667      3.666667  \n",
       "2023-06-30         47.666667    30.666667  76.000000  41.666667      4.666667  \n",
       "2023-09-30         56.666667    37.333333  16.333333  41.333333      5.000000  \n",
       "\n",
       "[79 rows x 10 columns]"
      ]
     },
     "execution_count": 11,
     "metadata": {},
     "output_type": "execute_result"
    }
   ],
   "source": [
    "X"
   ]
  },
  {
   "cell_type": "markdown",
   "id": "863d55e4",
   "metadata": {},
   "source": [
    "# 3.) Normalize all the X data"
   ]
  },
  {
   "cell_type": "code",
   "execution_count": 12,
   "id": "8325a0f4",
   "metadata": {},
   "outputs": [],
   "source": [
    "from sklearn.preprocessing import StandardScaler"
   ]
  },
  {
   "cell_type": "code",
   "execution_count": 13,
   "id": "bc2504ab",
   "metadata": {},
   "outputs": [],
   "source": [
    "scaler = StandardScaler()"
   ]
  },
  {
   "cell_type": "code",
   "execution_count": 14,
   "id": "d1910614",
   "metadata": {},
   "outputs": [],
   "source": [
    "X_scaled=scaler.fit_transform(X)"
   ]
  },
  {
   "cell_type": "markdown",
   "id": "925f79f5",
   "metadata": {},
   "source": [
    "# 4.) Run a Lasso with lambda of .5. Plot a bar chart."
   ]
  },
  {
   "cell_type": "code",
   "execution_count": 52,
   "id": "d829a004",
   "metadata": {},
   "outputs": [],
   "source": [
    "from sklearn.linear_model import Lasso"
   ]
  },
  {
   "cell_type": "code",
   "execution_count": 53,
   "id": "5e19efe6",
   "metadata": {},
   "outputs": [],
   "source": [
    "lasso=Lasso(alpha=.005)"
   ]
  },
  {
   "cell_type": "code",
   "execution_count": 54,
   "id": "ec86dbde",
   "metadata": {},
   "outputs": [
    {
     "data": {
      "text/html": [
       "<style>#sk-container-id-7 {color: black;}#sk-container-id-7 pre{padding: 0;}#sk-container-id-7 div.sk-toggleable {background-color: white;}#sk-container-id-7 label.sk-toggleable__label {cursor: pointer;display: block;width: 100%;margin-bottom: 0;padding: 0.3em;box-sizing: border-box;text-align: center;}#sk-container-id-7 label.sk-toggleable__label-arrow:before {content: \"▸\";float: left;margin-right: 0.25em;color: #696969;}#sk-container-id-7 label.sk-toggleable__label-arrow:hover:before {color: black;}#sk-container-id-7 div.sk-estimator:hover label.sk-toggleable__label-arrow:before {color: black;}#sk-container-id-7 div.sk-toggleable__content {max-height: 0;max-width: 0;overflow: hidden;text-align: left;background-color: #f0f8ff;}#sk-container-id-7 div.sk-toggleable__content pre {margin: 0.2em;color: black;border-radius: 0.25em;background-color: #f0f8ff;}#sk-container-id-7 input.sk-toggleable__control:checked~div.sk-toggleable__content {max-height: 200px;max-width: 100%;overflow: auto;}#sk-container-id-7 input.sk-toggleable__control:checked~label.sk-toggleable__label-arrow:before {content: \"▾\";}#sk-container-id-7 div.sk-estimator input.sk-toggleable__control:checked~label.sk-toggleable__label {background-color: #d4ebff;}#sk-container-id-7 div.sk-label input.sk-toggleable__control:checked~label.sk-toggleable__label {background-color: #d4ebff;}#sk-container-id-7 input.sk-hidden--visually {border: 0;clip: rect(1px 1px 1px 1px);clip: rect(1px, 1px, 1px, 1px);height: 1px;margin: -1px;overflow: hidden;padding: 0;position: absolute;width: 1px;}#sk-container-id-7 div.sk-estimator {font-family: monospace;background-color: #f0f8ff;border: 1px dotted black;border-radius: 0.25em;box-sizing: border-box;margin-bottom: 0.5em;}#sk-container-id-7 div.sk-estimator:hover {background-color: #d4ebff;}#sk-container-id-7 div.sk-parallel-item::after {content: \"\";width: 100%;border-bottom: 1px solid gray;flex-grow: 1;}#sk-container-id-7 div.sk-label:hover label.sk-toggleable__label {background-color: #d4ebff;}#sk-container-id-7 div.sk-serial::before {content: \"\";position: absolute;border-left: 1px solid gray;box-sizing: border-box;top: 0;bottom: 0;left: 50%;z-index: 0;}#sk-container-id-7 div.sk-serial {display: flex;flex-direction: column;align-items: center;background-color: white;padding-right: 0.2em;padding-left: 0.2em;position: relative;}#sk-container-id-7 div.sk-item {position: relative;z-index: 1;}#sk-container-id-7 div.sk-parallel {display: flex;align-items: stretch;justify-content: center;background-color: white;position: relative;}#sk-container-id-7 div.sk-item::before, #sk-container-id-7 div.sk-parallel-item::before {content: \"\";position: absolute;border-left: 1px solid gray;box-sizing: border-box;top: 0;bottom: 0;left: 50%;z-index: -1;}#sk-container-id-7 div.sk-parallel-item {display: flex;flex-direction: column;z-index: 1;position: relative;background-color: white;}#sk-container-id-7 div.sk-parallel-item:first-child::after {align-self: flex-end;width: 50%;}#sk-container-id-7 div.sk-parallel-item:last-child::after {align-self: flex-start;width: 50%;}#sk-container-id-7 div.sk-parallel-item:only-child::after {width: 0;}#sk-container-id-7 div.sk-dashed-wrapped {border: 1px dashed gray;margin: 0 0.4em 0.5em 0.4em;box-sizing: border-box;padding-bottom: 0.4em;background-color: white;}#sk-container-id-7 div.sk-label label {font-family: monospace;font-weight: bold;display: inline-block;line-height: 1.2em;}#sk-container-id-7 div.sk-label-container {text-align: center;}#sk-container-id-7 div.sk-container {/* jupyter's `normalize.less` sets `[hidden] { display: none; }` but bootstrap.min.css set `[hidden] { display: none !important; }` so we also need the `!important` here to be able to override the default hidden behavior on the sphinx rendered scikit-learn.org. See: https://github.com/scikit-learn/scikit-learn/issues/21755 */display: inline-block !important;position: relative;}#sk-container-id-7 div.sk-text-repr-fallback {display: none;}</style><div id=\"sk-container-id-7\" class=\"sk-top-container\"><div class=\"sk-text-repr-fallback\"><pre>Lasso(alpha=0.005)</pre><b>In a Jupyter environment, please rerun this cell to show the HTML representation or trust the notebook. <br />On GitHub, the HTML representation is unable to render, please try loading this page with nbviewer.org.</b></div><div class=\"sk-container\" hidden><div class=\"sk-item\"><div class=\"sk-estimator sk-toggleable\"><input class=\"sk-toggleable__control sk-hidden--visually\" id=\"sk-estimator-id-7\" type=\"checkbox\" checked><label for=\"sk-estimator-id-7\" class=\"sk-toggleable__label sk-toggleable__label-arrow\">Lasso</label><div class=\"sk-toggleable__content\"><pre>Lasso(alpha=0.005)</pre></div></div></div></div></div>"
      ],
      "text/plain": [
       "Lasso(alpha=0.005)"
      ]
     },
     "execution_count": 54,
     "metadata": {},
     "output_type": "execute_result"
    }
   ],
   "source": [
    "lasso.fit(X_scaled, y)"
   ]
  },
  {
   "cell_type": "code",
   "execution_count": 55,
   "id": "fd87f09b",
   "metadata": {
    "scrolled": true
   },
   "outputs": [],
   "source": [
    "coefficients = lasso.coef_"
   ]
  },
  {
   "cell_type": "code",
   "execution_count": 56,
   "id": "345fdac7",
   "metadata": {
    "scrolled": true
   },
   "outputs": [
    {
     "data": {
      "text/plain": [
       "array([ 0.33954359, -0.        ,  0.12018817,  0.06447918, -0.41570894,\n",
       "        0.02681137, -0.04074253,  0.07457102, -0.23244309, -0.02019444])"
      ]
     },
     "execution_count": 56,
     "metadata": {},
     "output_type": "execute_result"
    }
   ],
   "source": [
    "coefficients"
   ]
  },
  {
   "cell_type": "code",
   "execution_count": 58,
   "id": "a8b68f91",
   "metadata": {},
   "outputs": [
    {
     "data": {
      "image/png": "[encoded data removed]",
      "text/plain": [
       "<Figure size 640x480 with 1 Axes>"
      ]
     },
     "metadata": {},
     "output_type": "display_data"
    }
   ],
   "source": [
    "plt.bar(range(X_scaled.shape[1]), coefficients)\n",
    "plt.axhline(0, color = \"red\")\n",
    "plt.xlabel('Features')\n",
    "plt.ylabel('Coefficients')\n",
    "plt.title('Lasso Coefficients')\n",
    "plt.show()"
   ]
  },
  {
   "cell_type": "markdown",
   "id": "96278b34",
   "metadata": {},
   "source": [
    "# 5.) Do these coefficient magnitudes make sense?"
   ]
  },
  {
   "cell_type": "markdown",
   "id": "d1159da5",
   "metadata": {},
   "source": [
    "as seen  on graph, the negative coefficient are low at feature 5 and 9 which is phone reviews (lowest) and DMV, with phone review become negatives coefficient its not perfectly picture the real condition because the feature should have positive coefficient. For DMV feature, with that negative coefficient its expected. "
   ]
  }
 ],
 "metadata": {
  "kernelspec": {
   "display_name": "Python 3 (ipykernel)",
   "language": "python",
   "name": "python3"
  },
  "language_info": {
   "codemirror_mode": {
    "name": "ipython",
    "version": 3
   },
   "file_extension": ".py",
   "mimetype": "text/x-python",
   "name": "python",
   "nbconvert_exporter": "python",
   "pygments_lexer": "ipython3",
   "version": "3.11.5"
  }
 },
 "nbformat": 4,
 "nbformat_minor": 5
}
